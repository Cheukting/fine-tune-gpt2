{
 "cells": [
  {
   "cell_type": "code",
   "id": "initial_id",
   "metadata": {
    "collapsed": true,
    "ExecuteTime": {
     "end_time": "2025-08-07T19:56:36.494599Z",
     "start_time": "2025-08-07T19:56:29.329020Z"
    }
   },
   "source": [
    "from datasets import load_dataset\n",
    "from dotenv import load_dotenv\n",
    "import os\n",
    "\n",
    "load_dotenv()\n",
    "dataset = load_dataset(\"allenai/math-meta-reasoning-cleaned\", token=os.getenv(\"HF_TOKEN\"))\n",
    "dataset"
   ],
   "outputs": [
    {
     "name": "stderr",
     "output_type": "stream",
     "text": [
      "Using the latest cached version of the dataset since allenai/math-meta-reasoning-cleaned couldn't be found on the Hugging Face Hub\n",
      "Found the latest cached dataset configuration 'default' at /Users/cheuktingho/.cache/huggingface/datasets/allenai___math-meta-reasoning-cleaned/default/0.0.0/7044eb3a39d07dabcd97f1d14f40a5d421bf5ae0 (last modified on Wed Aug  6 11:30:30 2025).\n"
     ]
    },
    {
     "data": {
      "text/plain": [
       "DatasetDict({\n",
       "    train: Dataset({\n",
       "        features: ['id', 'text', 'token_count'],\n",
       "        num_rows: 987485\n",
       "    })\n",
       "})"
      ]
     },
     "execution_count": 1,
     "metadata": {},
     "output_type": "execute_result"
    }
   ],
   "execution_count": 1
  },
  {
   "metadata": {
    "ExecuteTime": {
     "end_time": "2025-08-06T10:30:30.649378Z",
     "start_time": "2025-08-06T10:30:21.585483Z"
    }
   },
   "cell_type": "code",
   "source": [
    "from transformers import GPT2Tokenizer\n",
    "\n",
    "tokenizer = GPT2Tokenizer.from_pretrained(\"openai-community/gpt2\")\n",
    "tokenizer.pad_token = tokenizer.eos_token\n",
    "\n",
    "def tokenize_function(examples):\n",
    "    return tokenizer(examples['text'], truncation=True, padding='max_length', max_length=512)\n",
    "\n",
    "tokenized_datasets = dataset.map(tokenize_function, batched=True)"
   ],
   "id": "942a2caea46e79b4",
   "outputs": [],
   "execution_count": 2
  },
  {
   "metadata": {
    "ExecuteTime": {
     "end_time": "2025-08-06T10:30:30.755278Z",
     "start_time": "2025-08-06T10:30:30.739703Z"
    }
   },
   "cell_type": "code",
   "source": [
    "tokenized_datasets_split = tokenized_datasets[\"train\"].shard(num_shards=100, index=0).train_test_split(test_size=0.2, shuffle=True)\n",
    "tokenized_datasets_split"
   ],
   "id": "8acf674e8107e171",
   "outputs": [
    {
     "data": {
      "text/plain": [
       "DatasetDict({\n",
       "    train: Dataset({\n",
       "        features: ['id', 'text', 'token_count', 'input_ids', 'attention_mask'],\n",
       "        num_rows: 7900\n",
       "    })\n",
       "    test: Dataset({\n",
       "        features: ['id', 'text', 'token_count', 'input_ids', 'attention_mask'],\n",
       "        num_rows: 1975\n",
       "    })\n",
       "})"
      ]
     },
     "execution_count": 3,
     "metadata": {},
     "output_type": "execute_result"
    }
   ],
   "execution_count": 3
  },
  {
   "metadata": {
    "ExecuteTime": {
     "end_time": "2025-08-06T10:30:30.910611Z",
     "start_time": "2025-08-06T10:30:30.761275Z"
    }
   },
   "cell_type": "code",
   "source": [
    "from transformers import TrainingArguments\n",
    "training_args = TrainingArguments(\n",
    "    output_dir='results',\n",
    "    num_train_epochs=5,\n",
    "    per_device_train_batch_size=8,\n",
    "    per_device_eval_batch_size=8,\n",
    "    warmup_steps=100,\n",
    "    weight_decay=0.01,\n",
    "    save_steps = 500,\n",
    "    logging_steps=100,\n",
    "    dataloader_pin_memory=False\n",
    ")"
   ],
   "id": "ca97528ecc953213",
   "outputs": [],
   "execution_count": 4
  },
  {
   "metadata": {
    "ExecuteTime": {
     "end_time": "2025-08-06T10:30:33.559172Z",
     "start_time": "2025-08-06T10:30:30.926177Z"
    }
   },
   "cell_type": "code",
   "source": [
    "from transformers import GPT2LMHeadModel, Trainer, DataCollatorForLanguageModeling\n",
    "\n",
    "model = GPT2LMHeadModel.from_pretrained(\"openai-community/gpt2\")\n",
    "data_collator = DataCollatorForLanguageModeling(tokenizer=tokenizer, mlm=False)\n",
    "\n",
    "trainer = Trainer(\n",
    "    model=model,\n",
    "    args=training_args,\n",
    "    train_dataset=tokenized_datasets_split['train'],\n",
    "    eval_dataset=tokenized_datasets_split['test'],\n",
    "    data_collator=data_collator,\n",
    ")\n",
    "\n",
    "trainer.train(resume_from_checkpoint=True)"
   ],
   "id": "75147a101b3de175",
   "outputs": [
    {
     "name": "stderr",
     "output_type": "stream",
     "text": [
      "There were missing keys in the checkpoint model loaded: ['lm_head.weight'].\n"
     ]
    },
    {
     "data": {
      "text/plain": [
       "<IPython.core.display.HTML object>"
      ],
      "text/html": [
       "\n",
       "    <div>\n",
       "      \n",
       "      <progress value='4940' max='4940' style='width:300px; height:20px; vertical-align: middle;'></progress>\n",
       "      [4940/4940 : < :, Epoch 5/5]\n",
       "    </div>\n",
       "    <table border=\"1\" class=\"dataframe\">\n",
       "  <thead>\n",
       " <tr style=\"text-align: left;\">\n",
       "      <th>Step</th>\n",
       "      <th>Training Loss</th>\n",
       "    </tr>\n",
       "  </thead>\n",
       "  <tbody>\n",
       "  </tbody>\n",
       "</table><p>"
      ]
     },
     "metadata": {},
     "output_type": "display_data"
    },
    {
     "data": {
      "text/plain": [
       "TrainOutput(global_step=4940, training_loss=0.0, metrics={'train_runtime': 0.0019, 'train_samples_per_second': 21091662.381, 'train_steps_per_second': 2637792.713, 'total_flos': 1.0321035264e+16, 'train_loss': 0.0, 'epoch': 5.0})"
      ]
     },
     "execution_count": 5,
     "metadata": {},
     "output_type": "execute_result"
    }
   ],
   "execution_count": 5
  },
  {
   "metadata": {
    "ExecuteTime": {
     "end_time": "2025-08-06T10:34:06.671802Z",
     "start_time": "2025-08-06T10:30:33.586247Z"
    }
   },
   "cell_type": "code",
   "source": [
    "trainer.evaluate(tokenized_datasets_split['test'])\n",
    "trainer.save_model(\"./trained_model\")"
   ],
   "id": "fef84f2050c4c387",
   "outputs": [
    {
     "name": "stderr",
     "output_type": "stream",
     "text": [
      "`loss_type=None` was set in the config but it is unrecognised.Using the default loss: `ForCausalLMLoss`.\n"
     ]
    },
    {
     "data": {
      "text/plain": [
       "<IPython.core.display.HTML object>"
      ],
      "text/html": [
       "\n",
       "    <div>\n",
       "      \n",
       "      <progress value='247' max='247' style='width:300px; height:20px; vertical-align: middle;'></progress>\n",
       "      [247/247 03:29]\n",
       "    </div>\n",
       "    "
      ]
     },
     "metadata": {},
     "output_type": "display_data"
    },
    {
     "data": {
      "text/plain": [
       "{'eval_loss': 0.9974642992019653,\n",
       " 'eval_runtime': 213.0766,\n",
       " 'eval_samples_per_second': 9.269,\n",
       " 'eval_steps_per_second': 1.159,\n",
       " 'epoch': 5.0}"
      ]
     },
     "execution_count": 6,
     "metadata": {},
     "output_type": "execute_result"
    }
   ],
   "execution_count": 6
  },
  {
   "metadata": {
    "ExecuteTime": {
     "end_time": "2025-08-06T10:34:07.256503Z",
     "start_time": "2025-08-06T10:34:06.729085Z"
    }
   },
   "cell_type": "code",
   "source": "trainer.save_model(\"./trained_model\")",
   "id": "632d32ac784a3074",
   "outputs": [],
   "execution_count": 7
  }
 ],
 "metadata": {
  "kernelspec": {
   "display_name": "Python 3",
   "language": "python",
   "name": "python3"
  },
  "language_info": {
   "codemirror_mode": {
    "name": "ipython",
    "version": 2
   },
   "file_extension": ".py",
   "mimetype": "text/x-python",
   "name": "python",
   "nbconvert_exporter": "python",
   "pygments_lexer": "ipython2",
   "version": "2.7.6"
  }
 },
 "nbformat": 4,
 "nbformat_minor": 5
}
